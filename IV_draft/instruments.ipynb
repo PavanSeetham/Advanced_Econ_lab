{
 "cells": [
  {
   "cell_type": "code",
   "execution_count": 2,
   "metadata": {},
   "outputs": [],
   "source": [
    "import pandas as pd\n",
    "import numpy as np"
   ]
  },
  {
   "cell_type": "code",
   "execution_count": 3,
   "metadata": {},
   "outputs": [],
   "source": [
    "csl_data = pd.read_csv(\"./data/impute.csv\", index_col=[0])"
   ]
  },
  {
   "cell_type": "code",
   "execution_count": 4,
   "metadata": {},
   "outputs": [
    {
     "data": {
      "text/html": [
       "<div>\n",
       "<style scoped>\n",
       "    .dataframe tbody tr th:only-of-type {\n",
       "        vertical-align: middle;\n",
       "    }\n",
       "\n",
       "    .dataframe tbody tr th {\n",
       "        vertical-align: top;\n",
       "    }\n",
       "\n",
       "    .dataframe thead th {\n",
       "        text-align: right;\n",
       "    }\n",
       "</style>\n",
       "<table border=\"1\" class=\"dataframe\">\n",
       "  <thead>\n",
       "    <tr style=\"text-align: right;\">\n",
       "      <th></th>\n",
       "      <th>POB</th>\n",
       "      <th>YEAR</th>\n",
       "      <th>MIN</th>\n",
       "      <th>MAX</th>\n",
       "      <th>MINEXPT</th>\n",
       "      <th>MINAWORK</th>\n",
       "      <th>MINEWORK</th>\n",
       "      <th>NEXTYEAR</th>\n",
       "      <th>BIRTHPL</th>\n",
       "    </tr>\n",
       "  </thead>\n",
       "  <tbody>\n",
       "    <tr>\n",
       "      <th>1</th>\n",
       "      <td>Alabama</td>\n",
       "      <td>1914</td>\n",
       "      <td>NR</td>\n",
       "      <td>NR</td>\n",
       "      <td>NR</td>\n",
       "      <td>NR</td>\n",
       "      <td>NR</td>\n",
       "      <td>1917</td>\n",
       "      <td>1</td>\n",
       "    </tr>\n",
       "    <tr>\n",
       "      <th>2</th>\n",
       "      <td>Alabama</td>\n",
       "      <td>1915</td>\n",
       "      <td>NR</td>\n",
       "      <td>NR</td>\n",
       "      <td>NR</td>\n",
       "      <td>NR</td>\n",
       "      <td>NR</td>\n",
       "      <td>1917</td>\n",
       "      <td>1</td>\n",
       "    </tr>\n",
       "    <tr>\n",
       "      <th>3</th>\n",
       "      <td>Alabama</td>\n",
       "      <td>1916</td>\n",
       "      <td>NR</td>\n",
       "      <td>NR</td>\n",
       "      <td>NR</td>\n",
       "      <td>NR</td>\n",
       "      <td>NR</td>\n",
       "      <td>1917</td>\n",
       "      <td>1</td>\n",
       "    </tr>\n",
       "    <tr>\n",
       "      <th>4</th>\n",
       "      <td>Alabama</td>\n",
       "      <td>1917</td>\n",
       "      <td>8</td>\n",
       "      <td>16</td>\n",
       "      <td>6</td>\n",
       "      <td>12</td>\n",
       "      <td>NR</td>\n",
       "      <td>1921</td>\n",
       "      <td>1</td>\n",
       "    </tr>\n",
       "    <tr>\n",
       "      <th>5</th>\n",
       "      <td>Alabama</td>\n",
       "      <td>1918</td>\n",
       "      <td>8</td>\n",
       "      <td>16</td>\n",
       "      <td>6</td>\n",
       "      <td>12</td>\n",
       "      <td>NR</td>\n",
       "      <td>1921</td>\n",
       "      <td>1</td>\n",
       "    </tr>\n",
       "  </tbody>\n",
       "</table>\n",
       "</div>"
      ],
      "text/plain": [
       "       POB  YEAR MIN MAX MINEXPT MINAWORK MINEWORK  NEXTYEAR  BIRTHPL\n",
       "1  Alabama  1914  NR  NR      NR       NR       NR      1917        1\n",
       "2  Alabama  1915  NR  NR      NR       NR       NR      1917        1\n",
       "3  Alabama  1916  NR  NR      NR       NR       NR      1917        1\n",
       "4  Alabama  1917   8  16       6       12       NR      1921        1\n",
       "5  Alabama  1918   8  16       6       12       NR      1921        1"
      ]
     },
     "execution_count": 4,
     "metadata": {},
     "output_type": "execute_result"
    }
   ],
   "source": [
    "csl_data.head()"
   ]
  },
  {
   "cell_type": "code",
   "execution_count": 5,
   "metadata": {},
   "outputs": [
    {
     "data": {
      "text/plain": [
       "(3185, 9)"
      ]
     },
     "execution_count": 5,
     "metadata": {},
     "output_type": "execute_result"
    }
   ],
   "source": [
    "csl_data.shape"
   ]
  },
  {
   "cell_type": "markdown",
   "metadata": {},
   "source": [
    "MIN = compulsory attendance minimum\n",
    "\n",
    "MAX = compulsory attendance maximum\n",
    "\n",
    "MINEXPT = minimum shooling to dropout\n",
    "\n",
    "MINAWORK = minimum age to work\n",
    "\n",
    "MINEWORK = minimum education to work\n",
    "\n",
    "\"M\" = missing\n",
    "\n",
    "\"NR\" = not restricted.\n",
    "\n",
    "req_sch = ca"
   ]
  },
  {
   "cell_type": "code",
   "execution_count": 6,
   "metadata": {},
   "outputs": [],
   "source": [
    "csl_data = csl_data.replace(to_replace= \"NR\", value= 0 )"
   ]
  },
  {
   "cell_type": "code",
   "execution_count": 7,
   "metadata": {},
   "outputs": [
    {
     "data": {
      "text/html": [
       "<div>\n",
       "<style scoped>\n",
       "    .dataframe tbody tr th:only-of-type {\n",
       "        vertical-align: middle;\n",
       "    }\n",
       "\n",
       "    .dataframe tbody tr th {\n",
       "        vertical-align: top;\n",
       "    }\n",
       "\n",
       "    .dataframe thead th {\n",
       "        text-align: right;\n",
       "    }\n",
       "</style>\n",
       "<table border=\"1\" class=\"dataframe\">\n",
       "  <thead>\n",
       "    <tr style=\"text-align: right;\">\n",
       "      <th></th>\n",
       "      <th>POB</th>\n",
       "      <th>YEAR</th>\n",
       "      <th>MIN</th>\n",
       "      <th>MAX</th>\n",
       "      <th>req_sch</th>\n",
       "      <th>work_age</th>\n",
       "      <th>work_sch</th>\n",
       "      <th>NEXTYEAR</th>\n",
       "      <th>BIRTHPL</th>\n",
       "    </tr>\n",
       "  </thead>\n",
       "  <tbody>\n",
       "    <tr>\n",
       "      <th>1</th>\n",
       "      <td>Alabama</td>\n",
       "      <td>1914</td>\n",
       "      <td>0</td>\n",
       "      <td>0</td>\n",
       "      <td>0</td>\n",
       "      <td>0</td>\n",
       "      <td>0</td>\n",
       "      <td>1917</td>\n",
       "      <td>1</td>\n",
       "    </tr>\n",
       "    <tr>\n",
       "      <th>2</th>\n",
       "      <td>Alabama</td>\n",
       "      <td>1915</td>\n",
       "      <td>0</td>\n",
       "      <td>0</td>\n",
       "      <td>0</td>\n",
       "      <td>0</td>\n",
       "      <td>0</td>\n",
       "      <td>1917</td>\n",
       "      <td>1</td>\n",
       "    </tr>\n",
       "    <tr>\n",
       "      <th>3</th>\n",
       "      <td>Alabama</td>\n",
       "      <td>1916</td>\n",
       "      <td>0</td>\n",
       "      <td>0</td>\n",
       "      <td>0</td>\n",
       "      <td>0</td>\n",
       "      <td>0</td>\n",
       "      <td>1917</td>\n",
       "      <td>1</td>\n",
       "    </tr>\n",
       "    <tr>\n",
       "      <th>4</th>\n",
       "      <td>Alabama</td>\n",
       "      <td>1917</td>\n",
       "      <td>8</td>\n",
       "      <td>16</td>\n",
       "      <td>6</td>\n",
       "      <td>12</td>\n",
       "      <td>0</td>\n",
       "      <td>1921</td>\n",
       "      <td>1</td>\n",
       "    </tr>\n",
       "    <tr>\n",
       "      <th>5</th>\n",
       "      <td>Alabama</td>\n",
       "      <td>1918</td>\n",
       "      <td>8</td>\n",
       "      <td>16</td>\n",
       "      <td>6</td>\n",
       "      <td>12</td>\n",
       "      <td>0</td>\n",
       "      <td>1921</td>\n",
       "      <td>1</td>\n",
       "    </tr>\n",
       "  </tbody>\n",
       "</table>\n",
       "</div>"
      ],
      "text/plain": [
       "       POB  YEAR MIN MAX req_sch work_age work_sch  NEXTYEAR  BIRTHPL\n",
       "1  Alabama  1914   0   0       0        0        0      1917        1\n",
       "2  Alabama  1915   0   0       0        0        0      1917        1\n",
       "3  Alabama  1916   0   0       0        0        0      1917        1\n",
       "4  Alabama  1917   8  16       6       12        0      1921        1\n",
       "5  Alabama  1918   8  16       6       12        0      1921        1"
      ]
     },
     "execution_count": 7,
     "metadata": {},
     "output_type": "execute_result"
    }
   ],
   "source": [
    "# renaming variables\n",
    "csl_data.rename(columns = {\"MINEXPT\": \"req_sch\",\n",
    "                             \"MINAWORK\": \"work_age\",\n",
    "                             \"MINEWORK\": \"work_sch\"}, inplace=True)\n",
    "csl_data.head()"
   ]
  },
  {
   "cell_type": "markdown",
   "metadata": {},
   "source": [
    "## Creating Instruments"
   ]
  },
  {
   "cell_type": "code",
   "execution_count": 9,
   "metadata": {},
   "outputs": [],
   "source": [
    "# for ca\n",
    "ca = []\n",
    "\n",
    "for i, j, k in zip(csl_data.MIN, csl_data.MAX, csl_data.req_sch):\n",
    "    if (i != 0) and (j != 0 ):\n",
    "        ca.append(max(int(j)-int(i), int(k)))\n",
    "    elif (i == 0) or (j == 0 ):\n",
    "        ca.append(max(0, int(k)))\n",
    "\n",
    "csl_data[\"ca\"] = ca\n",
    "\n",
    "# for cl\n",
    "cl =  []\n",
    "\n",
    "for i, j, k, l in zip(csl_data.MIN, csl_data.MAX, csl_data.work_sch, csl_data.work_age):\n",
    "    if (i != 0):\n",
    "        cl.append(max(int(l)-int(i), int(k)))\n",
    "    elif (i == 0):\n",
    "        cl.append(max(0, int(k)))\n",
    "\n",
    "csl_data[\"cl\"] = cl"
   ]
  },
  {
   "cell_type": "markdown",
   "metadata": {},
   "source": [
    "### Creating Dummies"
   ]
  },
  {
   "cell_type": "code",
   "execution_count": 10,
   "metadata": {},
   "outputs": [],
   "source": [
    "csl_data[\"ca8\"] = csl_data.ca.apply(lambda row: 1 if row <= 8 else 0)\n",
    "csl_data[\"ca9\"] = csl_data.ca.apply(lambda row: 1 if row == 9 else 0)\n",
    "csl_data[\"ca10\"] = csl_data.ca.apply(lambda row: 1 if row == 10 else 0)\n",
    "csl_data[\"ca11\"] = csl_data.ca.apply(lambda row: 1 if row >= 11 else 0)\n",
    "\n",
    "csl_data[\"cl6\"] = csl_data.cl.apply(lambda row: 1 if row <= 6 else 0)\n",
    "csl_data[\"cl7\"] = csl_data.cl.apply(lambda row: 1 if row == 7 else 0)\n",
    "csl_data[\"cl8\"] = csl_data.cl.apply(lambda row: 1 if row == 8 else 0)\n",
    "csl_data[\"cl9\"] = csl_data.cl.apply(lambda row: 1 if row >= 9 else 0)"
   ]
  },
  {
   "cell_type": "code",
   "execution_count": 11,
   "metadata": {},
   "outputs": [],
   "source": [
    "csl_data.to_csv(\"./data/instruments_clean.csv\")"
   ]
  }
 ],
 "metadata": {
  "interpreter": {
   "hash": "2b77301e2abfec4fdf86484a76ffa02219949a23355844e603e03d95d917c7bd"
  },
  "kernelspec": {
   "display_name": "Python 3.8.8 64-bit ('base': conda)",
   "language": "python",
   "name": "python3"
  },
  "language_info": {
   "codemirror_mode": {
    "name": "ipython",
    "version": 3
   },
   "file_extension": ".py",
   "mimetype": "text/x-python",
   "name": "python",
   "nbconvert_exporter": "python",
   "pygments_lexer": "ipython3",
   "version": "3.8.8"
  },
  "orig_nbformat": 4
 },
 "nbformat": 4,
 "nbformat_minor": 2
}
