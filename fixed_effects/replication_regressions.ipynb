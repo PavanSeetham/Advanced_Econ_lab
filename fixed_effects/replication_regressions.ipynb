{
 "cells": [
  {
   "cell_type": "code",
   "execution_count": 1,
   "metadata": {},
   "outputs": [],
   "source": [
    "import pandas as pd\n",
    "import numpy as np\n",
    "import matplotlib.pyplot as plt\n",
    "import seaborn  as sns\n",
    "import statsmodels.api as sm\n",
    "from statsmodels.iolib.summary2 import summary_col\n",
    "from statsmodels.api import stats\n",
    "from linearmodels.panel import PanelOLS\n"
   ]
  },
  {
   "cell_type": "code",
   "execution_count": 2,
   "metadata": {},
   "outputs": [],
   "source": [
    "df = pd.read_excel(\"UYdata.xlsx\")\n",
    "\n",
    "# remove rows with attribute missing\n",
    "df = df.loc[df.att_missing == 0]"
   ]
  },
  {
   "cell_type": "code",
   "execution_count": 3,
   "metadata": {},
   "outputs": [],
   "source": [
    "# fill missing distance from sub district with google distance\n",
    "df[\"subdistricthqdist_c\"].fillna(df[\"google_km\"], inplace=True)"
   ]
  },
  {
   "cell_type": "markdown",
   "metadata": {},
   "source": [
    "# Table 4"
   ]
  },
  {
   "cell_type": "markdown",
   "metadata": {},
   "source": [
    "Set of Household Controls:\n",
    "1. household size: hhnum_b\n",
    "2. dummy for household head’s education above primary level: edu_hhhead_b \n",
    "3. Household head’s occupation: occu_b\n",
    "4. primary cook’s age: age_pc_b\n",
    "5. dummy for primary cook’s education above primary level: pc_edu_b\n",
    "6. dummy for non-Hindu household: hindu_b\n",
    "7. household caste: hh_caste_b\n",
    "8. household wealth index: assets_index\n",
    "   \n",
    "Village level controls include\n",
    "1. dummies for presence of pvt. primary school: education_b\n",
    "2. access to health sub-centres: healthstatus_b \n",
    "3. all weather road: road_b\n",
    "4. proportion of irrigated land: irrigation_b\n",
    "5. distance to block headquarter: google_km subdistricthqdist_c\n",
    "\n",
    "Sub-district fixed effects (FE)\n",
    "Dummy for whether treatment assigned: treatment012 <br>\n",
    "Dummy for whether treatment assigned to h: treatment_h <br>\n",
    "Dummy for whether treatment assigned to h: treatment_hs <br>\n",
    "villages added to C from H/H+S: noncompliance_village"
   ]
  },
  {
   "cell_type": "markdown",
   "metadata": {},
   "source": [
    "## Cleaning data"
   ]
  },
  {
   "cell_type": "code",
   "execution_count": 4,
   "metadata": {},
   "outputs": [],
   "source": [
    "# choose all dependent and independent variables for table 4\n",
    "all_controls = df[[\"villagecode_str\",   # for clustering\n",
    "                   \"hhnum_b\", \"edu_hhhead_b\", \"occu_b\", \"age_pc_b\", \"pc_edu_b\", \n",
    "                   \"hindu_b\", \"hh_caste_b\", \"assets_index\",   #  HH controls\n",
    "                   \"education_b\", \"healthstatus_b\", \"road_b\", \"irrigation_b\",  \n",
    "                   \"subdistricthqdist_c\", #  Village controls\n",
    "                    # \"noncompliance_village\",\n",
    "                   \"totrefills_omc_b2\", \"treatment012\", \"treatment_h\", \"treatment_hs\",\n",
    "                   \"totrefills_omc_e2\", \n",
    "                   \"tehsil_e\"      # fixed  effects\n",
    "                   ]]  "
   ]
  },
  {
   "cell_type": "code",
   "execution_count": 5,
   "metadata": {},
   "outputs": [],
   "source": [
    "# the total lpg refills is reported for only those households who could be \n",
    "# matched with OMC sales records (N = 2729). Therefore drop all those obvs \n",
    "# which could not be matched\n",
    "all_controls =  all_controls.drop(all_controls['totrefills_omc_b2'].index[all_controls['totrefills_omc_b2'].apply(np.isnan)])"
   ]
  },
  {
   "cell_type": "code",
   "execution_count": 7,
   "metadata": {},
   "outputs": [],
   "source": [
    "# function for fixed effects model\n",
    "def fixed_effects_model(endog = None,exog = None,data= None, \n",
    "                        group = None, cluster = None):\n",
    "    '''\n",
    "    Outputs the fitted fixed effects model. Just need to call summary()\n",
    "    endog: (string) column name of the dependent variable of PD df \n",
    "    exog: (list) list of all independent variables col names in string\n",
    "    data: Pandas dataframe containing the exog and endog columns\n",
    "    group: (string) the column name to apply fixed effects on\n",
    "    cluster: (string) the column name to cluster se on. If same as group,\n",
    "            specify again\n",
    "    '''\n",
    "    mean_val = data.groupby(group).mean()\n",
    "    demeaned_val = (data.set_index(group) - mean_val)\n",
    "    \n",
    "    FE =  sm.OLS(\n",
    "                    endog= demeaned_val[endog],\n",
    "                    exog= demeaned_val[exog],\n",
    "                    drop_missing =  False\n",
    "\n",
    "                ).fit(cov_type='cluster', \n",
    "                        cov_kwds={'groups': data[cluster]}\n",
    "                     )\n",
    "    \n",
    "    return FE"
   ]
  },
  {
   "cell_type": "markdown",
   "metadata": {},
   "source": [
    "## Regressions Table 4: Impact of information campaign on annual LPG refill consumption"
   ]
  },
  {
   "cell_type": "code",
   "execution_count": 8,
   "metadata": {},
   "outputs": [],
   "source": [
    "# Non fixed  effects  overall treatment\n",
    "lpg_refill_nonfe_o =  sm.OLS(\n",
    "    endog= all_controls[\"totrefills_omc_e2\"],\n",
    "    exog= sm.add_constant(all_controls.iloc[:,1:-4]),\n",
    "    drop_missing =  False\n",
    ").fit(cov_type='cluster', cov_kwds={'groups': all_controls[\"villagecode_str\"]})\n",
    "\n",
    "# variable of interest: treatment012, totrefills_omc_b2"
   ]
  },
  {
   "cell_type": "code",
   "execution_count": 9,
   "metadata": {},
   "outputs": [],
   "source": [
    "# Non fixed effects individual treatment\n",
    "lpg_refill_nonfe_i =  sm.OLS(\n",
    "    endog= all_controls[\"totrefills_omc_e2\"],\n",
    "    exog= sm.add_constant(all_controls.iloc[:,1:-2].drop(\"treatment012\", axis=1)),\n",
    "    drop_missing =  False\n",
    ").fit(cov_type='cluster', cov_kwds={'groups': all_controls[\"villagecode_str\"]})\n",
    "\n",
    "# variable of interest: treatment_h, treatment_hs, totrefills_omc_b2"
   ]
  },
  {
   "cell_type": "code",
   "execution_count": 10,
   "metadata": {},
   "outputs": [],
   "source": [
    "# fixed effects models\n",
    "lpg_refill_fe_o = fixed_effects_model(\n",
    "                    endog= \"totrefills_omc_e2\",\n",
    "                    exog= all_controls.iloc[:,1:-4].columns,\n",
    "                    data= all_controls,\n",
    "                    group = \"tehsil_e\",\n",
    "                    cluster= \"villagecode_str\"\n",
    "                )"
   ]
  },
  {
   "cell_type": "code",
   "execution_count": 11,
   "metadata": {},
   "outputs": [],
   "source": [
    "# fixed effects models\n",
    "lpg_refill_fe_i = fixed_effects_model(\n",
    "                    endog= \"totrefills_omc_e2\",\n",
    "                    exog= all_controls.iloc[:,1:-2].drop(\"treatment012\", axis=1).columns,\n",
    "                    data= all_controls,\n",
    "                    group = \"tehsil_e\",\n",
    "                    cluster= \"villagecode_str\"\n",
    "                )"
   ]
  },
  {
   "cell_type": "code",
   "execution_count": 20,
   "metadata": {},
   "outputs": [],
   "source": [
    "info_dict={'No. observations' : lambda x: f\"{int(x.nobs):d}\"}\n",
    "           \n",
    "results_table = summary_col(results=[lpg_refill_nonfe_o, lpg_refill_nonfe_i,\n",
    "                                    lpg_refill_fe_o, lpg_refill_fe_i],\n",
    "                            float_format='%0.3f',\n",
    "                            stars = True,\n",
    "                            model_names=['Non FE Overall',\n",
    "                                         \"Non FE Ind\",\n",
    "                                         'FE Overall',\n",
    "                                         'FE Ind'],\n",
    "                            info_dict=info_dict,\n",
    "                            regressor_order=[\"treatment012\",\"treatment_h\", \n",
    "                                             \"treatment_hs\", \"totrefills_omc_b2\"],\n",
    "                            drop_omitted=  True\n",
    "                            )"
   ]
  },
  {
   "cell_type": "code",
   "execution_count": 21,
   "metadata": {},
   "outputs": [
    {
     "name": "stdout",
     "output_type": "stream",
     "text": [
      "\n",
      "===============================================================\n",
      "                  Non FE Overall Non FE Ind FE Overall  FE Ind \n",
      "---------------------------------------------------------------\n",
      "treatment012      0.069                     0.095              \n",
      "                  (0.100)                   (0.092)            \n",
      "treatment_h                      0.007                 0.015   \n",
      "                                 (0.115)               (0.112) \n",
      "treatment_hs                     0.134                 0.179   \n",
      "                                 (0.121)               (0.109) \n",
      "totrefills_omc_b2 0.804***       0.803***   0.801***   0.800***\n",
      "                  (0.018)        (0.018)    (0.018)    (0.018) \n",
      "R-squared         0.593          0.593      0.591      0.592   \n",
      "R-squared Adj.    0.591          0.591      0.589      0.589   \n",
      "No. observations  2729           2729       2729       2729    \n",
      "===============================================================\n",
      "Standard errors in parentheses.\n",
      "* p<.1, ** p<.05, ***p<.01\n"
     ]
    }
   ],
   "source": [
    "print(results_table)"
   ]
  },
  {
   "cell_type": "markdown",
   "metadata": {},
   "source": [
    "# Table 5"
   ]
  },
  {
   "cell_type": "code",
   "execution_count": null,
   "metadata": {},
   "outputs": [],
   "source": [
    "tabel_5_controls = df[[\"villagecode_str\",   # for clustering\n",
    "                   \"hhnum_b\", \"edu_hhhead_b\", \"occu_b\", \"age_pc_b\", \"pc_edu_b\", \n",
    "                   \"hindu_b\", \"hh_caste_b\", \"assets_index\",   #  HH controls\n",
    "                   \"education_b\", \"healthstatus_b\", \"road_b\", \"irrigation_b\",  \n",
    "                   \"subdistricthqdist_c\", #  Village controls\n",
    "                    # \"noncompliance_village\",\n",
    "                   \"totrefills_omc_b2\", \"treatment012\", \"treatment_h\", \"treatment_hs\",\n",
    "                   \"totrefills_omc_e2\", \n",
    "                   \"tehsil_e\"      # fixed  effects\n",
    "                   ]]  "
   ]
  },
  {
   "cell_type": "code",
   "execution_count": 17,
   "metadata": {},
   "outputs": [],
   "source": [
    "# list of all controls\n",
    "control = \"hhnum_b + edu_hhhead_b + occu_b + age_pc_b + pc_edu_b + hindu_b + hh_caste_b + assets_index + education_b + healthstatus_b + road_b + irrigation_b + subdistricthqdist_c\"\n"
   ]
  }
 ],
 "metadata": {
  "interpreter": {
   "hash": "2b77301e2abfec4fdf86484a76ffa02219949a23355844e603e03d95d917c7bd"
  },
  "kernelspec": {
   "display_name": "Python 3.8.8 64-bit ('base': conda)",
   "name": "python3"
  },
  "language_info": {
   "codemirror_mode": {
    "name": "ipython",
    "version": 3
   },
   "file_extension": ".py",
   "mimetype": "text/x-python",
   "name": "python",
   "nbconvert_exporter": "python",
   "pygments_lexer": "ipython3",
   "version": "3.8.8"
  },
  "orig_nbformat": 4
 },
 "nbformat": 4,
 "nbformat_minor": 2
}
