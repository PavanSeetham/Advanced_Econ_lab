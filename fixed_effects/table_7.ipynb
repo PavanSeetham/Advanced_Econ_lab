{
 "cells": [
  {
   "cell_type": "code",
   "execution_count": 1,
   "metadata": {},
   "outputs": [],
   "source": [
    "import warnings\n",
    "warnings.filterwarnings('ignore')\n",
    "\n",
    "import pandas as pd\n",
    "import numpy as np\n",
    "\n",
    "import statsmodels.api as sm\n",
    "import statsmodels.formula.api as smf\n",
    "from statsmodels.iolib.summary2 import summary_col\n"
   ]
  },
  {
   "cell_type": "code",
   "execution_count": 2,
   "metadata": {},
   "outputs": [],
   "source": [
    "df = pd.read_excel(\"clean_UYdata.xlsx\")"
   ]
  },
  {
   "cell_type": "code",
   "execution_count": 3,
   "metadata": {},
   "outputs": [],
   "source": [
    "# select subset of data\n",
    "reg_data = df[[\"villagecode_str\",   # for clustering\n",
    "                \"hhnum_b\", \"edu_hhhead_b\", \"occu_b\", \"age_pc_b\", \"pc_edu_b\", \n",
    "                \"hindu_b\", \"hh_caste_b\", \"assets_index\",   #  HH controls\n",
    "                \"education_b\", \"healthstatus_b\", \"road_b\", \"irrigation_b\",  \n",
    "                \"subdistricthqdist_c\", #  Village controls\n",
    "                # \"noncompliance_village\",\n",
    "                \"distance_dealer_close_b\",\n",
    "                \"distdlr_imputed_trt\",\n",
    "                \"totrefills_omc_b2\", \"treatment012\", \"treatment_h\", \"treatment_hs\",\n",
    "                \"totrefills_omc_e2\", \n",
    "                \"tehsil_e\"      # fixed  effects\n",
    "                   ]]  \n",
    "# define controls\n",
    "control = \"+ hhnum_b + edu_hhhead_b + occu_b + age_pc_b + pc_edu_b + hindu_b + hh_caste_b + assets_index + education_b + healthstatus_b + road_b + irrigation_b + subdistricthqdist_c\""
   ]
  },
  {
   "cell_type": "markdown",
   "metadata": {},
   "source": [
    "# Table 7"
   ]
  },
  {
   "cell_type": "code",
   "execution_count": 4,
   "metadata": {},
   "outputs": [],
   "source": [
    "# defining formulas for the two models with Imputed distance\n",
    "formula_1 = \"totrefills_omc_e2 ~ treatment012 + totrefills_omc_b2 + distance_dealer_close_b + distance_dealer_close_b * treatment012 \" \n",
    "formula_2 = \"totrefills_omc_e2 ~ treatment_h + treatment_hs + totrefills_omc_b2 + distance_dealer_close_b + distance_dealer_close_b * treatment_h + distance_dealer_close_b * treatment_hs\""
   ]
  },
  {
   "cell_type": "code",
   "execution_count": 5,
   "metadata": {},
   "outputs": [],
   "source": [
    "models = []\n",
    "\n",
    "models.append( smf.ols(formula_1 + control,\n",
    "                        data= reg_data\n",
    "                        ).fit(cov_type='cluster', \n",
    "                              cov_kwds={'groups': reg_data[\"villagecode_str\"]}\n",
    "                            )\n",
    "              )\n",
    "\n",
    "      # Non fixed effects model\n",
    "models.append( smf.ols(formula_2 + control,\n",
    "                        data= reg_data\n",
    "                        ).fit(cov_type='cluster', \n",
    "                              cov_kwds={'groups': reg_data[\"villagecode_str\"]}\n",
    "                              )\n",
    "            )\n",
    "      \n",
    "      # fixed effects: With dummies i.e least sq dummy variable model\n",
    "models.append( smf.ols(formula_1 + control + \"+ C(tehsil_e)\",\n",
    "                        data= reg_data\n",
    "                        ).fit(cov_type='cluster', \n",
    "                              cov_kwds={'groups': reg_data[\"villagecode_str\"]}\n",
    "                              )\n",
    "            )\n",
    "\n",
    "      # fixed effects: With dummies i.e least sq dummy variable model\n",
    "models.append( smf.ols(formula_2 + control + \"+ C(tehsil_e)\",\n",
    "                        data= reg_data\n",
    "                        ).fit(cov_type='cluster', \n",
    "                              cov_kwds={'groups': reg_data[\"villagecode_str\"]}\n",
    "                              )\n",
    "            )"
   ]
  },
  {
   "cell_type": "code",
   "execution_count": 6,
   "metadata": {},
   "outputs": [],
   "source": [
    "# to get the order of regression\n",
    "treat = [\"treatment012\",\"treatment_h\",\"treatment_hs\"] \n",
    "interaction = [\"distance_dealer_close_b:\"+i for i in treat] \n",
    "reg_order = treat + [\"distance_dealer_close_b\"] + interaction + [\"totrefills_omc_b2\"] "
   ]
  },
  {
   "cell_type": "code",
   "execution_count": 7,
   "metadata": {},
   "outputs": [],
   "source": [
    "info_dict={'No. observations' : lambda x: f\"{int(x.nobs):d}\"}\n",
    "           \n",
    "results_table = summary_col(results = models,\n",
    "                            float_format='%0.3f',\n",
    "                            stars = True,\n",
    "                            model_names=['Dist Actual Non FE (1)',\n",
    "                                         'Dist Actual Non FE (2)',\n",
    "                                         'Dist Actual FE (1)',\n",
    "                                         'Dist Actual FE (1)',\n",
    "                                         ],\n",
    "                            info_dict = info_dict,\n",
    "                            regressor_order= reg_order,\n",
    "                            drop_omitted=  True\n",
    "                            )"
   ]
  },
  {
   "cell_type": "code",
   "execution_count": 8,
   "metadata": {},
   "outputs": [
    {
     "data": {
      "text/html": [
       "<table class=\"simpletable\">\n",
       "<tr>\n",
       "                    <td></td>                   <th>Dist Actual Non FE (1) I</th> <th>Dist Actual Non FE (2) I</th> <th>Dist Actual FE (1) I</th> <th>Dist Actual FE (1) II</th>\n",
       "</tr>\n",
       "<tr>\n",
       "  <th>treatment012</th>                                   <td>0.335</td>                      <td></td>                     <td>0.350</td>                  <td></td>           \n",
       "</tr>\n",
       "<tr>\n",
       "  <th></th>                                              <td>(0.253)</td>                     <td></td>                    <td>(0.251)</td>                 <td></td>           \n",
       "</tr>\n",
       "<tr>\n",
       "  <th>treatment_h</th>                                      <td></td>                       <td>0.174</td>                    <td></td>                   <td>0.177</td>        \n",
       "</tr>\n",
       "<tr>\n",
       "  <th></th>                                                 <td></td>                      <td>(0.312)</td>                   <td></td>                  <td>(0.311)</td>       \n",
       "</tr>\n",
       "<tr>\n",
       "  <th>treatment_hs</th>                                     <td></td>                      <td>0.523**</td>                   <td></td>                  <td>0.548**</td>       \n",
       "</tr>\n",
       "<tr>\n",
       "  <th></th>                                                 <td></td>                      <td>(0.244)</td>                   <td></td>                  <td>(0.247)</td>       \n",
       "</tr>\n",
       "<tr>\n",
       "  <th>distance_dealer_close_b</th>                       <td>-0.009</td>                   <td>-0.011</td>                 <td>-0.002</td>               <td>-0.003</td>        \n",
       "</tr>\n",
       "<tr>\n",
       "  <th></th>                                              <td>(0.043)</td>                  <td>(0.044)</td>                <td>(0.042)</td>              <td>(0.043)</td>       \n",
       "</tr>\n",
       "<tr>\n",
       "  <th>distance_dealer_close_b:treatment012</th>          <td>-0.051</td>                      <td></td>                    <td>-0.050</td>                  <td></td>           \n",
       "</tr>\n",
       "<tr>\n",
       "  <th></th>                                              <td>(0.050)</td>                     <td></td>                    <td>(0.049)</td>                 <td></td>           \n",
       "</tr>\n",
       "<tr>\n",
       "  <th>distance_dealer_close_b:treatment_h</th>              <td></td>                      <td>-0.033</td>                    <td></td>                  <td>-0.033</td>        \n",
       "</tr>\n",
       "<tr>\n",
       "  <th></th>                                                 <td></td>                      <td>(0.057)</td>                   <td></td>                  <td>(0.057)</td>       \n",
       "</tr>\n",
       "<tr>\n",
       "  <th>distance_dealer_close_b:treatment_hs</th>             <td></td>                      <td>-0.073</td>                    <td></td>                  <td>-0.071</td>        \n",
       "</tr>\n",
       "<tr>\n",
       "  <th></th>                                                 <td></td>                      <td>(0.052)</td>                   <td></td>                  <td>(0.053)</td>       \n",
       "</tr>\n",
       "<tr>\n",
       "  <th>totrefills_omc_b2</th>                            <td>0.801***</td>                 <td>0.800***</td>               <td>0.800***</td>             <td>0.799***</td>       \n",
       "</tr>\n",
       "<tr>\n",
       "  <th></th>                                              <td>(0.019)</td>                  <td>(0.019)</td>                <td>(0.019)</td>              <td>(0.019)</td>       \n",
       "</tr>\n",
       "<tr>\n",
       "  <th>R-squared</th>                                      <td>0.594</td>                    <td>0.594</td>                  <td>0.595</td>                <td>0.596</td>        \n",
       "</tr>\n",
       "<tr>\n",
       "  <th>R-squared Adj.</th>                                 <td>0.592</td>                    <td>0.592</td>                  <td>0.592</td>                <td>0.592</td>        \n",
       "</tr>\n",
       "<tr>\n",
       "  <th>No. observations</th>                               <td>2729</td>                     <td>2729</td>                   <td>2729</td>                 <td>2729</td>         \n",
       "</tr>\n",
       "</table>"
      ],
      "text/plain": [
       "<class 'statsmodels.iolib.summary2.Summary'>\n",
       "\"\"\"\n",
       "\n",
       "=================================================================================================================================\n",
       "                                     Dist Actual Non FE (1) I Dist Actual Non FE (2) I Dist Actual FE (1) I Dist Actual FE (1) II\n",
       "---------------------------------------------------------------------------------------------------------------------------------\n",
       "treatment012                         0.335                                             0.350                                     \n",
       "                                     (0.253)                                           (0.251)                                   \n",
       "treatment_h                                                   0.174                                         0.177                \n",
       "                                                              (0.312)                                       (0.311)              \n",
       "treatment_hs                                                  0.523**                                       0.548**              \n",
       "                                                              (0.244)                                       (0.247)              \n",
       "distance_dealer_close_b              -0.009                   -0.011                   -0.002               -0.003               \n",
       "                                     (0.043)                  (0.044)                  (0.042)              (0.043)              \n",
       "distance_dealer_close_b:treatment012 -0.051                                            -0.050                                    \n",
       "                                     (0.050)                                           (0.049)                                   \n",
       "distance_dealer_close_b:treatment_h                           -0.033                                        -0.033               \n",
       "                                                              (0.057)                                       (0.057)              \n",
       "distance_dealer_close_b:treatment_hs                          -0.073                                        -0.071               \n",
       "                                                              (0.052)                                       (0.053)              \n",
       "totrefills_omc_b2                    0.801***                 0.800***                 0.800***             0.799***             \n",
       "                                     (0.019)                  (0.019)                  (0.019)              (0.019)              \n",
       "R-squared                            0.594                    0.594                    0.595                0.596                \n",
       "R-squared Adj.                       0.592                    0.592                    0.592                0.592                \n",
       "No. observations                     2729                     2729                     2729                 2729                 \n",
       "=================================================================================================================================\n",
       "Standard errors in parentheses.\n",
       "* p<.1, ** p<.05, ***p<.01\n",
       "\"\"\""
      ]
     },
     "execution_count": 8,
     "metadata": {},
     "output_type": "execute_result"
    }
   ],
   "source": [
    "# Imputed distance part \n",
    "results_table\n"
   ]
  }
 ],
 "metadata": {
  "interpreter": {
   "hash": "2b77301e2abfec4fdf86484a76ffa02219949a23355844e603e03d95d917c7bd"
  },
  "kernelspec": {
   "display_name": "Python 3.8.8 64-bit ('base': conda)",
   "name": "python3"
  },
  "language_info": {
   "codemirror_mode": {
    "name": "ipython",
    "version": 3
   },
   "file_extension": ".py",
   "mimetype": "text/x-python",
   "name": "python",
   "nbconvert_exporter": "python",
   "pygments_lexer": "ipython3",
   "version": "3.8.8"
  },
  "orig_nbformat": 4
 },
 "nbformat": 4,
 "nbformat_minor": 2
}
